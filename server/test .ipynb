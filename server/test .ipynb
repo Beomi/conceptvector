{
 "cells": [
  {
   "cell_type": "code",
   "execution_count": 1,
   "metadata": {
    "collapsed": false
   },
   "outputs": [
    {
     "ename": "SyntaxError",
     "evalue": "invalid syntax (kde_new.py, line 43)",
     "output_type": "error",
     "traceback": [
      "\u001b[0;36m  File \u001b[0;32m\"ml/kde_new.py\"\u001b[0;36m, line \u001b[0;32m43\u001b[0m\n\u001b[0;31m    idxs = [x for x in candidates if x in self.pos_words_indicies]\u001b[0m\n\u001b[0m         ^\u001b[0m\n\u001b[0;31mSyntaxError\u001b[0m\u001b[0;31m:\u001b[0m invalid syntax\n"
     ]
    }
   ],
   "source": [
    "from ml import kde\n",
    "from ml import kde_new\n",
    "from ml import embedding\n",
    "import numpy as np\n",
    "import plotly.plotly as py\n",
    "import cufflinks as cf\n",
    "from plotly.graph_objs import *\n",
    "%load_ext autoreload\n",
    "%autoreload 2"
   ]
  },
  {
   "cell_type": "code",
   "execution_count": 27,
   "metadata": {
    "collapsed": false
   },
   "outputs": [],
   "source": [
    "# py.init_notebook_mode(connected=True)\n",
    "# cf.go_offline()"
   ]
  },
  {
   "cell_type": "code",
   "execution_count": 2,
   "metadata": {
    "collapsed": false
   },
   "outputs": [
    {
     "ename": "NameError",
     "evalue": "name 'embedding' is not defined",
     "output_type": "error",
     "traceback": [
      "\u001b[0;31m---------------------------------------------------------------------------\u001b[0m",
      "\u001b[0;31mNameError\u001b[0m                                 Traceback (most recent call last)",
      "\u001b[0;32m<ipython-input-2-505fdb362d3c>\u001b[0m in \u001b[0;36m<module>\u001b[0;34m()\u001b[0m\n\u001b[1;32m      4\u001b[0m \u001b[0;34m\u001b[0m\u001b[0m\n\u001b[1;32m      5\u001b[0m \u001b[0;31m# unified w2v queries with caching\u001b[0m\u001b[0;34m\u001b[0m\u001b[0;34m\u001b[0m\u001b[0m\n\u001b[0;32m----> 6\u001b[0;31m \u001b[0mw2v_model\u001b[0m \u001b[0;34m=\u001b[0m \u001b[0membedding\u001b[0m\u001b[0;34m.\u001b[0m\u001b[0mEmbeddingModel\u001b[0m\u001b[0;34m(\u001b[0m\u001b[0mwordsFileName\u001b[0m\u001b[0;34m)\u001b[0m\u001b[0;34m\u001b[0m\u001b[0m\n\u001b[0m\u001b[1;32m      7\u001b[0m \u001b[0mkde_model\u001b[0m \u001b[0;34m=\u001b[0m \u001b[0mkde_new\u001b[0m\u001b[0;34m.\u001b[0m\u001b[0mKdeModel\u001b[0m\u001b[0;34m(\u001b[0m\u001b[0mw2v_model\u001b[0m\u001b[0;34m)\u001b[0m\u001b[0;34m\u001b[0m\u001b[0m\n\u001b[1;32m      8\u001b[0m \u001b[0mdefault_kde_h_sq\u001b[0m \u001b[0;34m=\u001b[0m \u001b[0;36m2\u001b[0m\u001b[0;34m\u001b[0m\u001b[0m\n",
      "\u001b[0;31mNameError\u001b[0m: name 'embedding' is not defined"
     ]
    }
   ],
   "source": [
    "headerNames = ['word'] + range(300)\n",
    "# wordsFileName = './data/glove.6B.300d.txt'\n",
    "wordsFileName = './data/glove.6B.50d.txt' # for testing\n",
    "\n",
    "# unified w2v queries with caching\n",
    "w2v_model = embedding.EmbeddingModel(wordsFileName)\n",
    "kde_model = kde_new.KdeModel(w2v_model)\n",
    "default_kde_h_sq = 2\n",
    "vocab = w2v_model.vocabulary"
   ]
  },
  {
   "cell_type": "code",
   "execution_count": 43,
   "metadata": {
    "collapsed": false
   },
   "outputs": [
    {
     "name": "stdout",
     "output_type": "stream",
     "text": [
      "cache hit: microsoft\n",
      "cache miss: ibm\n"
     ]
    }
   ],
   "source": [
    "default_kde_h_sq = 2\n",
    "positive_terms = ['microsoft','ibm']\n",
    "negative_terms = []\n",
    "irrelevant_terms = []\n",
    "\n",
    "positiveCluster = []\n",
    "negativeCluster = []\n",
    "\n",
    "if positive_terms == None:\n",
    "    positive_terms = []\n",
    "else:\n",
    "    positive_terms = [w.encode('UTF-8') for w in positive_terms]\n",
    "\n",
    "if negative_terms == None:\n",
    "    negative_terms = []\n",
    "else:\n",
    "    negative_terms = [w.encode('UTF-8') for w in negative_terms]\n",
    "\n",
    "if irrelevant_terms == None:\n",
    "    irrelevant_terms = []\n",
    "else:\n",
    "    irrelevant_terms = [w.encode('UTF-8') for w in irrelevant_terms]\n",
    "\n",
    "if positiveCluster == None:\n",
    "    positiveCluster = []\n",
    "else:\n",
    "    positiveCluster = [ eval( w.encode('UTF-8')) for w in positiveCluster]\n",
    "    positiveCluster = [[w.encode('UTF-8') for w in x] for x in positiveCluster ]\n",
    "    positiveCluster = {i:w for i,w in enumerate(positiveCluster)}\n",
    "\n",
    "if negativeCluster == None:\n",
    "    negativeCluster = []\n",
    "else:\n",
    "    negativeCluster = [ eval( w.encode('UTF-8')) for w in negativeCluster]\n",
    "    negativeCluster = [[w.encode('UTF-8') for w in x] for x in negativeCluster ]\n",
    "    negativeCluster = {i:w for i,w in enumerate(negativeCluster)}\n",
    "\n",
    "\n",
    "# Because pairwise distance computations are cached in the w2v_model,\n",
    "# we do not need to worry about re-training the kde model\n",
    "#\n",
    "# Note: You can later put irr_words (see the function)\n",
    "kde_model.learn(h_sq=default_kde_h_sq,\n",
    "                pos_words=positive_terms,\n",
    "                                neg_words=negative_terms,\n",
    "                                irr_words=irrelevant_terms)\n"
   ]
  },
  {
   "cell_type": "code",
   "execution_count": 44,
   "metadata": {
    "collapsed": false
   },
   "outputs": [
    {
     "name": "stdout",
     "output_type": "stream",
     "text": [
      "[  2057   5198   5437  12001  12441  10512  10468  11329   4360   7617\n",
      "   9093  12352   6599   1515   7598  10791  20002  17545  28121  15724\n",
      "  17291  30003  27344  25847  62293   3291  29941  26439    950   8315\n",
      "  57805  14177   5189  10945  21299  30932  24687  14405  47749  43194\n",
      "   4501   8068  11247  11692   6167  37497   8823  10564   3249  42217\n",
      "  11722  19035   4073  15157  11730  16203   2801  10637   3859  10890\n",
      "   4081   8442  26417  23285  53476  19058  52567  35320  36960  36159\n",
      "   9079  22601  54352    924  24108  12080   3309   1476 191287   2371\n",
      "   9875   3961  12687  19152  71594  19768  25376  31003   9338  16109\n",
      "   1169  17783  35363  30956  30408   2588   3311  29813  32371   6547]\n",
      "['microsoft', 'ibm', 'intel', 'cisco', 'compaq', 'packard', 'motorola', 'hewlett', 'google', 'dell', 'oracle', 'netscape', 'yahoo', 'software', 'aol', 'pcs', 'microsystems', 'amd', 'novell', 'lucent', 'xerox', 'lenovo', 'emc', 'qualcomm', 'hewlett-packard', 'apple', 'mainframe', '3com', 'computer', 'hp', 'informix', 'macintosh', 'pc', 'desktop', 'compuserve', 'intuit', 'nortel', 'proprietary', 'unisys', 'os/2', 'sony', 'server', 'mci', 'iphone', 'hardware', 'workstations', 'ge', 'nokia', 'application', 'workstation', 'verizon', 'excel', 'acquisition', 'toshiba', 'servers', 'bellsouth', 'computers', 'browser', 'chip', 'ebay', 'client', 'computing', 'microprocessor', 'honeywell', 'mainframes', 'startup', 'siebel', 'sunnyvale', 'seagate', 'symantec', 'networking', 'fujitsu', 'webtv', 'internet', 'msn', 'micro', 'applications', 'operating', 'system/370', 'mobile', 'multimedia', 'technologies', 'worldcom', 'automation', 'egghead', 'xp', 'micron', 'ballmer', 'samsung', 'messaging', 'web', 'napster', 'lycos', 'smartphone', 'quicken', 'users', 'warner', 'microprocessors', 'supercomputer', 'developers']\n"
     ]
    }
   ],
   "source": [
    "ntrm = 100\n",
    "idx = np.argsort(kde_model.pos_score)\n",
    "idx = idx[::-1]\n",
    "print idx[0:ntrm]\n",
    "print [vocab[i] for i in idx[0:ntrm]]"
   ]
  },
  {
   "cell_type": "code",
   "execution_count": 45,
   "metadata": {
    "collapsed": false
   },
   "outputs": [
    {
     "name": "stdout",
     "output_type": "stream",
     "text": [
      "[0, 1, 2, 3, 4, 5, 6, 7, 8, 9, 10, 11, 12, 13, 14, 15, 16, 17, 18, 19, 20, 21, 22, 23, 24, 25, 26, 27, 28, 29, 30, 31, 32, 33, 34, 35, 36, 37, 38, 39, 40, 41, 42, 43, 44, 45, 46, 47, 48, 49, 50, 51, 52, 53, 54, 55, 56, 57, 58, 59, 60, 61, 62, 63, 64, 65, 66, 67, 68, 69, 70, 71, 72, 73, 74, 75, 76, 77, 78, 79, 80, 81, 82, 83, 84, 85, 86, 87, 88, 89, 90, 91, 92, 93, 94, 95, 96, 97, 98, 99]\n"
     ]
    },
    {
     "data": {
      "text/html": [
       "<iframe id=\"igraph\" scrolling=\"no\" style=\"border:none;\" seamless=\"seamless\" src=\"https://plot.ly/~intuinno/116.embed\" height=\"525px\" width=\"100%\"></iframe>"
      ],
      "text/plain": [
       "<plotly.tools.PlotlyDisplay object>"
      ]
     },
     "execution_count": 45,
     "metadata": {},
     "output_type": "execute_result"
    }
   ],
   "source": [
    "# data = [Bar( \n",
    "#           y=distances)]\n",
    "# py.iplot(data)\n",
    "print range(ntrm)\n",
    "data = [Bar( x =[ i for i in range(ntrm)],y=[ kde_model.pos_score[idx[i]] for i in range(ntrm)],text=[vocab[i] for i in idx[0:ntrm]])]\n",
    "py.iplot(data)"
   ]
  },
  {
   "cell_type": "code",
   "execution_count": null,
   "metadata": {
    "collapsed": true
   },
   "outputs": [],
   "source": []
  }
 ],
 "metadata": {
  "kernelspec": {
   "display_name": "Python [Root]",
   "language": "python",
   "name": "Python [Root]"
  },
  "language_info": {
   "codemirror_mode": {
    "name": "ipython",
    "version": 2
   },
   "file_extension": ".py",
   "mimetype": "text/x-python",
   "name": "python",
   "nbconvert_exporter": "python",
   "pygments_lexer": "ipython2",
   "version": "2.7.13"
  }
 },
 "nbformat": 4,
 "nbformat_minor": 0
}
