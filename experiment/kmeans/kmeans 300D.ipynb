{
 "cells": [
  {
   "cell_type": "code",
   "execution_count": 7,
   "metadata": {
    "collapsed": false
   },
   "outputs": [],
   "source": [
    "import numpy as np\n",
    "import pandas as pd\n",
    "import datetime\n",
    "from sklearn.cluster import KMeans"
   ]
  },
  {
   "cell_type": "code",
   "execution_count": 4,
   "metadata": {
    "collapsed": true
   },
   "outputs": [],
   "source": [
    "# Constants\n",
    "data_fname = '../data/glove.6B.300d.txt'\n",
    "nums = 300"
   ]
  },
  {
   "cell_type": "code",
   "execution_count": 6,
   "metadata": {
    "collapsed": false
   },
   "outputs": [
    {
     "name": "stdout",
     "output_type": "stream",
     "text": [
      "CPU times: user 12.5 s, sys: 316 ms, total: 12.8 s\n",
      "Wall time: 12.8 s\n"
     ]
    }
   ],
   "source": [
    "%%time\n",
    "glove_emb_df = pd.read_csv(data_fname, encoding='utf8', header=None, skiprows=0, quoting=3, delim_whitespace=True, index_col=0)\n",
    "\n",
    "words = glove_emb_df.index.values\n",
    "embs = glove_emb_df[[i+1 for i in range(nums) ]].values\n"
   ]
  },
  {
   "cell_type": "code",
   "execution_count": 8,
   "metadata": {
    "collapsed": false
   },
   "outputs": [
    {
     "name": "stdout",
     "output_type": "stream",
     "text": [
      "elapsed time : 1 day, 3:00:25.448919\n",
      "CPU times: user 1d 3h 42min 56s, sys: 17.9 s, total: 1d 3h 43min 13s\n",
      "Wall time: 1d 3h 27s\n"
     ]
    }
   ],
   "source": [
    "%%time\n",
    "start = datetime.datetime.now()\n",
    "kmeans = KMeans(n_clusters=nums ).fit(embs)\n",
    "print 'elapsed time :', datetime.datetime.now() - start\n",
    "\n",
    "# calculate distance to the assigned cluster centroid\n",
    "cls_idx = kmeans.labels_\n",
    "centers = kmeans.cluster_centers_\n",
    "distance = np.array([np.linalg.norm((centers[cls_idx[i]]-emb)) for i,emb in enumerate(embs)])"
   ]
  },
  {
   "cell_type": "code",
   "execution_count": null,
   "metadata": {
    "collapsed": true
   },
   "outputs": [],
   "source": []
  }
 ],
 "metadata": {
  "kernelspec": {
   "display_name": "Python [Root]",
   "language": "python",
   "name": "Python [Root]"
  },
  "language_info": {
   "codemirror_mode": {
    "name": "ipython",
    "version": 2
   },
   "file_extension": ".py",
   "mimetype": "text/x-python",
   "name": "python",
   "nbconvert_exporter": "python",
   "pygments_lexer": "ipython2",
   "version": "2.7.12"
  }
 },
 "nbformat": 4,
 "nbformat_minor": 0
}
