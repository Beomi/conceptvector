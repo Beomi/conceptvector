{
 "cells": [
  {
   "cell_type": "code",
   "execution_count": null,
   "metadata": {
    "collapsed": true
   },
   "outputs": [],
   "source": [
    "import time\n",
    "import datetime\n",
    "import numpy as np\n",
    "import pandas as pd\n",
    "from sklearn.cluster import KMeans\n",
    "from collections import defaultdict\n",
    "from nltk.corpus import stopwords"
   ]
  },
  {
   "cell_type": "code",
   "execution_count": null,
   "metadata": {
    "collapsed": true
   },
   "outputs": [],
   "source": [
    "# modify file name\n",
    "trained_file_name = '../server/data/glove.6B.300d.txt' #'/home/jurim0301/text_purify/w2v_300.txt' \n",
    "\n",
    "# text dataset for word2vec training\n",
    "text_file = 'pre_text' #'/home/jurim0301/text_purify/pre_text'\n",
    "\n",
    "# modify dimensions\n",
    "dims = 300\n",
    "\n",
    "# clustering file name\n",
    "file_start = 'kmeans_cluster_'"
   ]
  },
  {
   "cell_type": "code",
   "execution_count": null,
   "metadata": {
    "collapsed": false
   },
   "outputs": [],
   "source": [
    "# this is for pre-processing\n",
    "# currently not utilized in this ipynb\n",
    "def remove_stword(words, embs):\n",
    "    st = stopwords.words()\n",
    "    new_idx = [idx for idx in xrange(len(words)) if (words[idx] not in st)]\n",
    "    print len(words), len(new_idx)\n",
    "    print len(words)-len(new_idx), 'stopwords are found'\n",
    "    \n",
    "    return words[new_idx], embs[new_idx]"
   ]
  },
  {
   "cell_type": "markdown",
   "metadata": {},
   "source": [
    "# Word2vec training"
   ]
  },
  {
   "cell_type": "code",
   "execution_count": null,
   "metadata": {
    "collapsed": false
   },
   "outputs": [],
   "source": [
    "from gensim.models import Word2Vec"
   ]
  },
  {
   "cell_type": "code",
   "execution_count": null,
   "metadata": {
    "collapsed": true
   },
   "outputs": [],
   "source": [
    "# corpus : text corpus (list of list of words)\n",
    "# dimensions : dimensions of each word representation\n",
    "\n",
    "def word2vec_training(corpus, dimensions):\n",
    "    # one sentence = one wikipedia\n",
    "    start = datetime.datetime.now()\n",
    "    model = Word2Vec(corpus, size=dimensions, min_count=10, window=10, workers=6)\n",
    "    print str(dimensions),'training complete', datetime.datetime.now()-start\n",
    "\n",
    "    model.save(('w2v_'+str(dimensions)+'.model'))\n",
    "    model.save_word2vec_format(('w2v_'+str(dimensions)+'.txt'),fvocab='w2v_vocab.txt')\n"
   ]
  },
  {
   "cell_type": "code",
   "execution_count": null,
   "metadata": {
    "collapsed": false
   },
   "outputs": [],
   "source": [
    "# read text dataset\n",
    "corpus = [line.split() for line in open(text_file,'r').read().split('\\n') if len(line.split())!=0]\n",
    "print len(corpus), 'documents in the text corpus'"
   ]
  },
  {
   "cell_type": "code",
   "execution_count": null,
   "metadata": {
    "collapsed": false
   },
   "outputs": [],
   "source": [
    "word2vec_training(corpus, dims)"
   ]
  },
  {
   "cell_type": "markdown",
   "metadata": {},
   "source": [
    "# Dimension sorting"
   ]
  },
  {
   "cell_type": "code",
   "execution_count": null,
   "metadata": {
    "collapsed": false,
    "scrolled": true
   },
   "outputs": [],
   "source": [
    "import csv\n",
    "df = pd.read_csv(trained_file_name, encoding='utf8', header=None, skiprows=0, quoting=3, delim_whitespace=True, index_col=[0])"
   ]
  },
  {
   "cell_type": "code",
   "execution_count": null,
   "metadata": {
    "collapsed": false
   },
   "outputs": [],
   "source": [
    "df.head()"
   ]
  },
  {
   "cell_type": "code",
   "execution_count": null,
   "metadata": {
    "collapsed": false
   },
   "outputs": [],
   "source": [
    "# remove stopwords\n",
    "st = stopwords.words()\n",
    "df = df[df.index.isin(st)==False]"
   ]
  },
  {
   "cell_type": "code",
   "execution_count": null,
   "metadata": {
    "collapsed": false,
    "scrolled": true
   },
   "outputs": [],
   "source": [
    "import codecs\n",
    "words = df.iloc[:,0]\n",
    "with codecs.open('300_concepts_no_st.txt','w') as fw:\n",
    "    for i in xrange(300):\n",
    "        df.sort_values(by=(i+1), ascending=False, inplace=True)\n",
    "        fw.write('========================='+str(i)+'=========================\\n')\n",
    "        fw.write(u' '.join(df.iloc[:100,0]))\n",
    "        fw.write('\\n')"
   ]
  },
  {
   "cell_type": "code",
   "execution_count": null,
   "metadata": {
    "collapsed": false
   },
   "outputs": [],
   "source": [
    "df.sort_values(by=1, ascending=True, inplace=True)\n",
    "u' '.join(df.iloc[:50, 0])"
   ]
  },
  {
   "cell_type": "code",
   "execution_count": null,
   "metadata": {
    "collapsed": false,
    "scrolled": true
   },
   "outputs": [],
   "source": [
    "df.head()\n",
    "df.set_index(0)\n",
    "df.head()\n",
    "# df.set_index?"
   ]
  },
  {
   "cell_type": "markdown",
   "metadata": {},
   "source": [
    "# K-Means clustering"
   ]
  },
  {
   "cell_type": "code",
   "execution_count": null,
   "metadata": {
    "collapsed": true
   },
   "outputs": [],
   "source": [
    "# input : emb (embeddings), nums (number of clusters)\n",
    "# output : clustered \n",
    "def kmeans_clustering(words, embs, nums):\n",
    "    \n",
    "    start = datetime.datetime.now()\n",
    "    kmeans = KMeans(n_clusters=nums, n_jobs=6).fit(embs)\n",
    "    print 'elapsed time :', datetime.datetime.now() - start\n",
    "    \n",
    "    # calculate distance to the assigned cluster centroid\n",
    "    cls_idx = kmeans.labels_\n",
    "    centers = kmeans.cluster_centers_\n",
    "    distance = np.array([np.linalg.norm((centers[cls_idx[i]]-emb)) for i,emb in enumerate(embs)])\n",
    "    \n",
    "    with open(file_start+str(nums)+'.txt','w') as fw:\n",
    "        for i in xrange(nums):\n",
    "            fw.write('========================='+str(i)+'=========================\\n')\n",
    "            temp = sorted([(list(words)[idx], distance[idx]) for idx in np.where(cls_idx==i)[0]], key=lambda x: x[1])[:100]\n",
    "            fw.write(u' '.join([str(t[0]) for t in temp]))\n",
    "            fw.write('\\n')\n"
   ]
  },
  {
   "cell_type": "code",
   "execution_count": null,
   "metadata": {
    "collapsed": false
   },
   "outputs": [],
   "source": [
    "words = df.index\n",
    "embs = df.iloc[:,1:].as_matrix()\n",
    "nums = dims"
   ]
  },
  {
   "cell_type": "code",
   "execution_count": null,
   "metadata": {
    "collapsed": false
   },
   "outputs": [],
   "source": [
    "\n",
    "start = datetime.datetime.now()\n",
    "kmeans = KMeans(n_clusters=nums ).fit(embs)\n",
    "print 'elapsed time :', datetime.datetime.now() - start\n",
    "\n",
    "# calculate distance to the assigned cluster centroid\n",
    "cls_idx = kmeans.labels_\n",
    "centers = kmeans.cluster_centers_\n",
    "distance = np.array([np.linalg.norm((centers[cls_idx[i]]-emb)) for i,emb in enumerate(embs)])\n",
    "\n",
    "with open(file_start+str(nums)+'.txt','w') as fw:\n",
    "    for i in xrange(nums):\n",
    "        fw.write('========================='+str(i)+'=========================\\n')\n",
    "        temp = sorted([(list(words)[idx], distance[idx]) for idx in np.where(cls_idx==i)[0]], key=lambda x: x[1])[:100]\n",
    "        fw.write(u' '.join([str(t[0]) for t in temp]))\n",
    "        fw.write('\\n')"
   ]
  },
  {
   "cell_type": "code",
   "execution_count": null,
   "metadata": {
    "collapsed": false
   },
   "outputs": [],
   "source": [
    "cls_idx"
   ]
  },
  {
   "cell_type": "code",
   "execution_count": null,
   "metadata": {
    "collapsed": false
   },
   "outputs": [],
   "source": [
    "len(cls_idx)"
   ]
  },
  {
   "cell_type": "code",
   "execution_count": null,
   "metadata": {
    "collapsed": false
   },
   "outputs": [],
   "source": [
    "distance"
   ]
  },
  {
   "cell_type": "code",
   "execution_count": null,
   "metadata": {
    "collapsed": false
   },
   "outputs": [],
   "source": [
    "df2 = pd.DataFrame({'word': df[0],\n",
    "                   'cluster': cls_idx,\n",
    "                   'distance': distance })"
   ]
  },
  {
   "cell_type": "code",
   "execution_count": null,
   "metadata": {
    "collapsed": false
   },
   "outputs": [],
   "source": [
    "df2.head()"
   ]
  },
  {
   "cell_type": "code",
   "execution_count": null,
   "metadata": {
    "collapsed": false
   },
   "outputs": [],
   "source": [
    "df2.sort_values(['cluster','distance'], inplace=True)"
   ]
  },
  {
   "cell_type": "code",
   "execution_count": null,
   "metadata": {
    "collapsed": true
   },
   "outputs": [],
   "source": [
    "df2.to_csv('clusterDistance.csv')"
   ]
  },
  {
   "cell_type": "code",
   "execution_count": null,
   "metadata": {
    "collapsed": false
   },
   "outputs": [],
   "source": [
    "df2"
   ]
  },
  {
   "cell_type": "code",
   "execution_count": null,
   "metadata": {
    "collapsed": true
   },
   "outputs": [],
   "source": [
    "df3 = df2.set_index?"
   ]
  },
  {
   "cell_type": "code",
   "execution_count": null,
   "metadata": {
    "collapsed": true
   },
   "outputs": [],
   "source": [
    "df3 = df2.set_index('word')"
   ]
  },
  {
   "cell_type": "code",
   "execution_count": null,
   "metadata": {
    "collapsed": false
   },
   "outputs": [],
   "source": [
    "df3"
   ]
  },
  {
   "cell_type": "code",
   "execution_count": null,
   "metadata": {
    "collapsed": true
   },
   "outputs": [],
   "source": [
    "df3.to_csv(\"clusterDistance2.csv\")"
   ]
  },
  {
   "cell_type": "code",
   "execution_count": null,
   "metadata": {
    "collapsed": true
   },
   "outputs": [],
   "source": []
  }
 ],
 "metadata": {
  "anaconda-cloud": {},
  "kernelspec": {
   "display_name": "Python 2",
   "language": "python",
   "name": "python2"
  },
  "language_info": {
   "codemirror_mode": {
    "name": "ipython",
    "version": 2
   },
   "file_extension": ".py",
   "mimetype": "text/x-python",
   "name": "python",
   "nbconvert_exporter": "python",
   "pygments_lexer": "ipython2",
   "version": "2.7.12"
  }
 },
 "nbformat": 4,
 "nbformat_minor": 0
}
