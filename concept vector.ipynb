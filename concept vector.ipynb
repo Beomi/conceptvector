{
 "cells": [
  {
   "cell_type": "code",
   "execution_count": 1,
   "metadata": {
    "collapsed": true
   },
   "outputs": [],
   "source": [
    "import numpy as np\n",
    "import pandas as pd \n"
   ]
  },
  {
   "cell_type": "code",
   "execution_count": 5,
   "metadata": {
    "collapsed": false
   },
   "outputs": [
    {
     "ename": "TypeError",
     "evalue": "'instancemethod' object is not iterable",
     "output_type": "error",
     "traceback": [
      "\u001b[0;31m---------------------------------------------------------------------------\u001b[0m",
      "\u001b[0;31mTypeError\u001b[0m                                 Traceback (most recent call last)",
      "\u001b[0;32m<ipython-input-5-c0b0be9849ce>\u001b[0m in \u001b[0;36m<module>\u001b[0;34m()\u001b[0m\n\u001b[1;32m     28\u001b[0m set-to strife tiff to-do tussle battle royal sparring match\"\"\".split()\n\u001b[1;32m     29\u001b[0m \u001b[0;34m\u001b[0m\u001b[0m\n\u001b[0;32m---> 30\u001b[0;31m \u001b[0;32mprint\u001b[0m \u001b[0msorted\u001b[0m\u001b[0;34m(\u001b[0m\u001b[0mlist\u001b[0m\u001b[0;34m(\u001b[0m\u001b[0mset\u001b[0m\u001b[0;34m(\u001b[0m\u001b[0mfight_synonyms\u001b[0m\u001b[0;34m)\u001b[0m \u001b[0;34m-\u001b[0m \u001b[0mset\u001b[0m\u001b[0;34m(\u001b[0m\u001b[0mget_synonyms\u001b[0m\u001b[0;34m(\u001b[0m\u001b[0;34m'fight'\u001b[0m\u001b[0;34m)\u001b[0m\u001b[0;34m)\u001b[0m\u001b[0;34m)\u001b[0m\u001b[0;34m)\u001b[0m\u001b[0;34m\u001b[0m\u001b[0m\n\u001b[0m\u001b[1;32m     31\u001b[0m \u001b[0;34m\u001b[0m\u001b[0m\n\u001b[1;32m     32\u001b[0m fight_antonyms = \"\"\"accord agreement calm concord harmony peace quiet truce\n",
      "\u001b[0;32m<ipython-input-5-c0b0be9849ce>\u001b[0m in \u001b[0;36mget_synonyms\u001b[0;34m(word)\u001b[0m\n\u001b[1;32m     16\u001b[0m \u001b[0;34m\u001b[0m\u001b[0m\n\u001b[1;32m     17\u001b[0m \u001b[0;32mdef\u001b[0m \u001b[0mget_synonyms\u001b[0m\u001b[0;34m(\u001b[0m\u001b[0mword\u001b[0m\u001b[0;34m)\u001b[0m\u001b[0;34m:\u001b[0m\u001b[0;34m\u001b[0m\u001b[0m\n\u001b[0;32m---> 18\u001b[0;31m     \u001b[0;32mreturn\u001b[0m \u001b[0msorted\u001b[0m\u001b[0;34m(\u001b[0m \u001b[0;34m[\u001b[0m\u001b[0mv\u001b[0m\u001b[0;34m.\u001b[0m\u001b[0mname\u001b[0m \u001b[0;32mfor\u001b[0m \u001b[0mv\u001b[0m \u001b[0;32min\u001b[0m \u001b[0mget_variants\u001b[0m\u001b[0;34m(\u001b[0m\u001b[0mword\u001b[0m\u001b[0;34m)\u001b[0m\u001b[0;34m]\u001b[0m \u001b[0;34m)\u001b[0m\u001b[0;34m\u001b[0m\u001b[0m\n\u001b[0m\u001b[1;32m     19\u001b[0m \u001b[0;34m\u001b[0m\u001b[0m\n\u001b[1;32m     20\u001b[0m \u001b[0;32mdef\u001b[0m \u001b[0mget_antonyms\u001b[0m\u001b[0;34m(\u001b[0m\u001b[0mword\u001b[0m\u001b[0;34m)\u001b[0m\u001b[0;34m:\u001b[0m\u001b[0;34m\u001b[0m\u001b[0m\n",
      "\u001b[0;32m<ipython-input-5-c0b0be9849ce>\u001b[0m in \u001b[0;36mget_variants\u001b[0;34m(word)\u001b[0m\n\u001b[1;32m     13\u001b[0m         \u001b[0msynonyms\u001b[0m\u001b[0;34m.\u001b[0m\u001b[0mappend\u001b[0m\u001b[0;34m(\u001b[0m\u001b[0;34m[\u001b[0m \u001b[0ms\u001b[0m\u001b[0;34m.\u001b[0m\u001b[0mlemmas\u001b[0m \u001b[0;32mfor\u001b[0m \u001b[0ms\u001b[0m \u001b[0;32min\u001b[0m \u001b[0msyn\u001b[0m\u001b[0;34m.\u001b[0m\u001b[0mhyponyms\u001b[0m\u001b[0;34m(\u001b[0m\u001b[0;34m)\u001b[0m \u001b[0;34m]\u001b[0m \u001b[0;34m)\u001b[0m\u001b[0;34m\u001b[0m\u001b[0m\n\u001b[1;32m     14\u001b[0m \u001b[0;34m\u001b[0m\u001b[0m\n\u001b[0;32m---> 15\u001b[0;31m     \u001b[0;32mreturn\u001b[0m \u001b[0mset\u001b[0m\u001b[0;34m(\u001b[0m \u001b[0mflatten\u001b[0m\u001b[0;34m(\u001b[0m \u001b[0mflatten\u001b[0m\u001b[0;34m(\u001b[0m \u001b[0msynonyms\u001b[0m \u001b[0;34m)\u001b[0m \u001b[0;34m)\u001b[0m \u001b[0;34m)\u001b[0m\u001b[0;34m\u001b[0m\u001b[0m\n\u001b[0m\u001b[1;32m     16\u001b[0m \u001b[0;34m\u001b[0m\u001b[0m\n\u001b[1;32m     17\u001b[0m \u001b[0;32mdef\u001b[0m \u001b[0mget_synonyms\u001b[0m\u001b[0;34m(\u001b[0m\u001b[0mword\u001b[0m\u001b[0;34m)\u001b[0m\u001b[0;34m:\u001b[0m\u001b[0;34m\u001b[0m\u001b[0m\n",
      "\u001b[0;32m<ipython-input-5-c0b0be9849ce>\u001b[0m in \u001b[0;36mflatten\u001b[0;34m(l)\u001b[0m\n\u001b[1;32m      3\u001b[0m \u001b[0;34m\u001b[0m\u001b[0m\n\u001b[1;32m      4\u001b[0m \u001b[0;32mdef\u001b[0m \u001b[0mflatten\u001b[0m\u001b[0;34m(\u001b[0m\u001b[0ml\u001b[0m\u001b[0;34m)\u001b[0m\u001b[0;34m:\u001b[0m\u001b[0;34m\u001b[0m\u001b[0m\n\u001b[0;32m----> 5\u001b[0;31m     \u001b[0;32mreturn\u001b[0m \u001b[0mlist\u001b[0m\u001b[0;34m(\u001b[0m \u001b[0mchain\u001b[0m \u001b[0;34m(\u001b[0m \u001b[0;34m*\u001b[0m\u001b[0ml\u001b[0m \u001b[0;34m)\u001b[0m \u001b[0;34m)\u001b[0m\u001b[0;34m\u001b[0m\u001b[0m\n\u001b[0m\u001b[1;32m      6\u001b[0m \u001b[0;34m\u001b[0m\u001b[0m\n\u001b[1;32m      7\u001b[0m \u001b[0;32mdef\u001b[0m \u001b[0mget_variants\u001b[0m\u001b[0;34m(\u001b[0m\u001b[0mword\u001b[0m\u001b[0;34m)\u001b[0m\u001b[0;34m:\u001b[0m\u001b[0;34m\u001b[0m\u001b[0m\n",
      "\u001b[0;31mTypeError\u001b[0m: 'instancemethod' object is not iterable"
     ]
    }
   ],
   "source": [
    "from nltk.corpus import wordnet as wn\n",
    "from itertools import chain\n",
    "\n",
    "def flatten(l):\n",
    "    return list( chain ( *l ) )\n",
    "\n",
    "def get_variants(word):\n",
    "    synonyms = []\n",
    "    for syn in wn.synsets(word):\n",
    "        synonyms.append( [syn.lemmas] )\n",
    "        synonyms.append([ s.lemmas for s in syn.similar_tos() ] )\n",
    "        synonyms.append([ s.lemmas for s in syn.hypernyms() ] )\n",
    "        synonyms.append([ s.lemmas for s in syn.hyponyms() ] )\n",
    "\n",
    "    return set( flatten( flatten( synonyms ) ) )\n",
    "\n",
    "def get_synonyms(word):\n",
    "    return sorted( [v.name for v in get_variants(word)] )\n",
    "\n",
    "def get_antonyms(word):\n",
    "    antonyms = flatten( [v.antonyms() for v in get_variants(word)] )\n",
    "    return sorted( [a.name for a in antonyms] )\n",
    "\n",
    "fight_synonyms = \"\"\"action altercation argument battle bout brawl clash combat conflict confrontation\n",
    "contest controversy disagreement dispute duel exchange feud match melee quarrel riot rivalry round\n",
    "scuffle skirmish struggle war wrangling affray broil brush contention difficulty dissension dogfight\n",
    "engagement fisticuffs fracas fray free-for-all fuss hostility joust row ruckus rumble scrap scrimmage\n",
    "set-to strife tiff to-do tussle battle royal sparring match\"\"\".split()\n",
    "\n",
    "print sorted(list(set(fight_synonyms) - set(get_synonyms('fight'))))\n",
    "\n",
    "fight_antonyms = \"\"\"accord agreement calm concord harmony peace quiet truce\n",
    "friendliness friendship kindness\"\"\".split()\n",
    "\n",
    "print sorted( list( set( fight_antonyms ) - set( get_antonyms('fight') ) ) )"
   ]
  },
  {
   "cell_type": "code",
   "execution_count": 1,
   "metadata": {
    "collapsed": false
   },
   "outputs": [],
   "source": [
    "import nltk\n"
   ]
  },
  {
   "cell_type": "code",
   "execution_count": 2,
   "metadata": {
    "collapsed": false
   },
   "outputs": [
    {
     "data": {
      "text/plain": [
       "'3.0.2'"
      ]
     },
     "execution_count": 2,
     "metadata": {},
     "output_type": "execute_result"
    }
   ],
   "source": [
    "nltk.__version__\n"
   ]
  },
  {
   "cell_type": "code",
   "execution_count": 6,
   "metadata": {
    "collapsed": false
   },
   "outputs": [
    {
     "name": "stdout",
     "output_type": "stream",
     "text": [
      "dog\n",
      "domestic_dog\n",
      "Canis_familiaris\n",
      "frump\n",
      "dog\n",
      "dog\n",
      "cad\n",
      "bounder\n",
      "blackguard\n",
      "dog\n",
      "hound\n",
      "heel\n",
      "frank\n",
      "frankfurter\n",
      "hotdog\n",
      "hot_dog\n",
      "dog\n",
      "wiener\n",
      "wienerwurst\n",
      "weenie\n",
      "pawl\n",
      "detent\n",
      "click\n",
      "dog\n",
      "andiron\n",
      "firedog\n",
      "dog\n",
      "dog-iron\n",
      "chase\n",
      "chase_after\n",
      "trail\n",
      "tail\n",
      "tag\n",
      "give_chase\n",
      "dog\n",
      "go_after\n",
      "track\n"
     ]
    }
   ],
   "source": [
    "from nltk.corpus import wordnet as wn\n",
    "\n",
    "for synset in wn.synsets('dog'):\n",
    "    for lemma in synset.lemmas():\n",
    "        print lemma.name()"
   ]
  },
  {
   "cell_type": "code",
   "execution_count": null,
   "metadata": {
    "collapsed": true
   },
   "outputs": [],
   "source": [
    "from nltk.corpus import wordnet as wn\n",
    "\n",
    "for synset in wn.synsets('ugly'):\n",
    "    for lemma in synset.lemmas():\n",
    "        print lemma.name()"
   ]
  }
 ],
 "metadata": {
  "kernelspec": {
   "display_name": "Python 2",
   "language": "python",
   "name": "python2"
  },
  "language_info": {
   "codemirror_mode": {
    "name": "ipython",
    "version": 2
   },
   "file_extension": ".py",
   "mimetype": "text/x-python",
   "name": "python",
   "nbconvert_exporter": "python",
   "pygments_lexer": "ipython2",
   "version": "2.7.10"
  }
 },
 "nbformat": 4,
 "nbformat_minor": 0
}
